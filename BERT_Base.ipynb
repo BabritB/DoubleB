{
  "nbformat": 4,
  "nbformat_minor": 0,
  "metadata": {
    "colab": {
      "name": "BERT_Base.ipynb",
      "provenance": [],
      "toc_visible": true,
      "authorship_tag": "ABX9TyMed2kha3kKWKU8BdzsSo+E",
      "include_colab_link": true
    },
    "kernelspec": {
      "name": "python3",
      "display_name": "Python 3"
    },
    "accelerator": "GPU"
  },
  "cells": [
    {
      "cell_type": "markdown",
      "metadata": {
        "id": "view-in-github",
        "colab_type": "text"
      },
      "source": [
        "<a href=\"https://colab.research.google.com/github/BabritB/DoubleB/blob/master/BERT_Base.ipynb\" target=\"_parent\"><img src=\"https://colab.research.google.com/assets/colab-badge.svg\" alt=\"Open In Colab\"/></a>"
      ]
    },
    {
      "cell_type": "code",
      "metadata": {
        "id": "p9LrahdVBCqr",
        "colab_type": "code",
        "colab": {
          "base_uri": "https://localhost:8080/",
          "height": 496
        },
        "outputId": "8c9f6148-e808-4cb5-d499-82116b25ad20"
      },
      "source": [
        "!pip install bert\n",
        "!gdown --id 1S6qMioqPJjyBLpLVz4gmRTnJHnjitnuV\n",
        "!gdown --id 1zdmewp7ayS4js4VtrJEHzAheSW-5NBZv\n",
        "!pip install -qq transformers"
      ],
      "execution_count": 1,
      "outputs": [
        {
          "output_type": "stream",
          "text": [
            "Collecting bert\n",
            "  Downloading https://files.pythonhosted.org/packages/e8/e6/55ed98ef52b168a38192da1aff7265c640f214009790220664ee3b4cb52a/bert-2.2.0.tar.gz\n",
            "Collecting erlastic\n",
            "  Downloading https://files.pythonhosted.org/packages/f3/30/f40d99fe35c38c2e0415b1e746c89569f2483e64ef65d054b9f0f382f234/erlastic-2.0.0.tar.gz\n",
            "Building wheels for collected packages: bert, erlastic\n",
            "  Building wheel for bert (setup.py) ... \u001b[?25l\u001b[?25hdone\n",
            "  Created wheel for bert: filename=bert-2.2.0-cp36-none-any.whl size=3756 sha256=a56274395506b492e10227c6cbc4cdc238a19238fc6e97daf789e106d0b1e6b0\n",
            "  Stored in directory: /root/.cache/pip/wheels/fe/71/b7/941459453bd38e5d97a8c886361dee19325e9933c9cf88ad46\n",
            "  Building wheel for erlastic (setup.py) ... \u001b[?25l\u001b[?25hdone\n",
            "  Created wheel for erlastic: filename=erlastic-2.0.0-cp36-none-any.whl size=6786 sha256=4470ebfece84675e16f856dc773be9885ae85216732e1086cdc0e64a36134a75\n",
            "  Stored in directory: /root/.cache/pip/wheels/02/62/46/93c713a5f061aeeb4f16eb6bf5ee798816e6ddda70faa78e69\n",
            "Successfully built bert erlastic\n",
            "Installing collected packages: erlastic, bert\n",
            "Successfully installed bert-2.2.0 erlastic-2.0.0\n",
            "Downloading...\n",
            "From: https://drive.google.com/uc?id=1S6qMioqPJjyBLpLVz4gmRTnJHnjitnuV\n",
            "To: /content/apps.csv\n",
            "100% 134k/134k [00:00<00:00, 40.3MB/s]\n",
            "Downloading...\n",
            "From: https://drive.google.com/uc?id=1zdmewp7ayS4js4VtrJEHzAheSW-5NBZv\n",
            "To: /content/reviews.csv\n",
            "7.17MB [00:00, 22.8MB/s]\n",
            "\u001b[K     |████████████████████████████████| 778kB 4.7MB/s \n",
            "\u001b[K     |████████████████████████████████| 3.0MB 20.4MB/s \n",
            "\u001b[K     |████████████████████████████████| 1.1MB 58.9MB/s \n",
            "\u001b[K     |████████████████████████████████| 890kB 59.8MB/s \n",
            "\u001b[?25h  Building wheel for sacremoses (setup.py) ... \u001b[?25l\u001b[?25hdone\n"
          ],
          "name": "stdout"
        }
      ]
    },
    {
      "cell_type": "code",
      "metadata": {
        "id": "MAAfjHqqBQo5",
        "colab_type": "code",
        "colab": {}
      },
      "source": [
        "import pandas as pd\n",
        "import numpy as np\n",
        "import transformers\n",
        "from transformers import BertModel, BertTokenizer, AdamW, get_linear_schedule_with_warmup\n",
        "import torch\n",
        "import matplotlib.pyplot as plt\n",
        "import seaborn as sns\n",
        "import pandas.util.testing as tm\n",
        "from torch import nn, optim\n",
        "from torch.utils.data import Dataset, DataLoader\n",
        "from sklearn.model_selection import train_test_split \n",
        "import torch.nn.functional as F\n",
        "from sklearn.metrics import confusion_matrix, classification_report\n",
        "from collections import defaultdict\n",
        "from textwrap import wrap"
      ],
      "execution_count": 74,
      "outputs": []
    },
    {
      "cell_type": "code",
      "metadata": {
        "id": "E03kHvbiBYVH",
        "colab_type": "code",
        "colab": {}
      },
      "source": [
        "data=pd.read_csv('reviews.csv')"
      ],
      "execution_count": 75,
      "outputs": []
    },
    {
      "cell_type": "code",
      "metadata": {
        "id": "ijI2OMa2Be8R",
        "colab_type": "code",
        "colab": {}
      },
      "source": [
        "RANDOM_SEED = 42\n",
        "np.random.seed(RANDOM_SEED)\n",
        "torch.manual_seed(RANDOM_SEED)\n",
        "device = torch.device(\"cuda:0\" if torch.cuda.is_available() else \"cpu\")"
      ],
      "execution_count": 76,
      "outputs": []
    },
    {
      "cell_type": "code",
      "metadata": {
        "id": "p31IKbJPBiuM",
        "colab_type": "code",
        "colab": {}
      },
      "source": [
        "def convert_sentiment(rating):\n",
        "  rating=int(rating)\n",
        "  if rating<=2:\n",
        "    return 0\n",
        "  elif rating==3:\n",
        "    return 1\n",
        "  else:\n",
        "    return 2\n",
        "\n",
        "data['sentiment']=data['score'].apply(lambda x:convert_sentiment(x))"
      ],
      "execution_count": 77,
      "outputs": []
    },
    {
      "cell_type": "code",
      "metadata": {
        "id": "lIbhHmooBoKw",
        "colab_type": "code",
        "colab": {}
      },
      "source": [
        "class_names = ['negative', 'neutral', 'positive']"
      ],
      "execution_count": 78,
      "outputs": []
    },
    {
      "cell_type": "code",
      "metadata": {
        "id": "ZrkhPURDCAZ3",
        "colab_type": "code",
        "colab": {}
      },
      "source": [
        "\"\"\"### Preprocessing stars using the BertBodel\"\"\"\n",
        "PRE_TRAINED_MODEL_NAME='bert-base-cased'\n",
        "tokenizer = BertTokenizer.from_pretrained(PRE_TRAINED_MODEL_NAME)"
      ],
      "execution_count": 79,
      "outputs": []
    },
    {
      "cell_type": "code",
      "metadata": {
        "id": "Da6BafrWBt9p",
        "colab_type": "code",
        "colab": {}
      },
      "source": [
        "token_lens = []\n",
        "for txt in data.content:\n",
        "  tokens = tokenizer.encode(txt, max_length=512,truncation=True)\n",
        "  token_lens.append(len(tokens))"
      ],
      "execution_count": 80,
      "outputs": []
    },
    {
      "cell_type": "code",
      "metadata": {
        "id": "lG4-fw0tB4dh",
        "colab_type": "code",
        "colab": {
          "base_uri": "https://localhost:8080/",
          "height": 279
        },
        "outputId": "a10f3734-c89b-412f-d654-0693e28599b1"
      },
      "source": [
        "sns.distplot(token_lens)\n",
        "plt.xlim([0, 256]);\n",
        "plt.xlabel('Token count');"
      ],
      "execution_count": 81,
      "outputs": [
        {
          "output_type": "display_data",
          "data": {
            "image/png": "[encoded data removed]",
            "text/plain": [
              "<Figure size 432x288 with 1 Axes>"
            ]
          },
          "metadata": {
            "tags": [],
            "needs_background": "light"
          }
        }
      ]
    },
    {
      "cell_type": "code",
      "metadata": {
        "id": "y9JywQXaCOlq",
        "colab_type": "code",
        "colab": {}
      },
      "source": [
        "MAX_LEN=160"
      ],
      "execution_count": 82,
      "outputs": []
    },
    {
      "cell_type": "code",
      "metadata": {
        "id": "W7eAoxuUCzjH",
        "colab_type": "code",
        "colab": {}
      },
      "source": [
        "# Build the pytorch dataset:\n",
        "class GPReviewDataset(Dataset):\n",
        "  def __init__(self, reviews, targets, tokenizer, max_len):\n",
        "    self.reviews = reviews\n",
        "    self.targets = targets\n",
        "    self.tokenizer = tokenizer\n",
        "    self.max_len = max_len\n",
        "  def __len__(self):\n",
        "    return len(self.reviews)\n",
        "  def __getitem__(self, item):\n",
        "    review = str(self.reviews[item])\n",
        "    target = self.targets[item]\n",
        "    encoding = self.tokenizer.encode_plus(\n",
        "      review,\n",
        "      truncation=True,\n",
        "      add_special_tokens=True,\n",
        "      max_length=self.max_len,\n",
        "      return_token_type_ids=False,\n",
        "      pad_to_max_length=True,\n",
        "      return_attention_mask=True,\n",
        "      return_tensors='pt',\n",
        "    )\n",
        "    return {\n",
        "      'review_text': review,\n",
        "      'input_ids': encoding['input_ids'].flatten(),\n",
        "      'attention_mask': encoding['attention_mask'].flatten(),\n",
        "      'targets': torch.tensor(target, dtype=torch.long)\n",
        "    }"
      ],
      "execution_count": 83,
      "outputs": []
    },
    {
      "cell_type": "code",
      "metadata": {
        "id": "fQN-EABgC_8s",
        "colab_type": "code",
        "colab": {}
      },
      "source": [
        "data_train, data_test = train_test_split(data,test_size=0.1,random_state=RANDOM_SEED)\n",
        "data_val, data_test = train_test_split(data_test,test_size=0.5,random_state=RANDOM_SEED)"
      ],
      "execution_count": 84,
      "outputs": []
    },
    {
      "cell_type": "code",
      "metadata": {
        "id": "H5aVEsNbDxkA",
        "colab_type": "code",
        "colab": {
          "base_uri": "https://localhost:8080/",
          "height": 34
        },
        "outputId": "b1d7ec1a-a622-4da8-f190-da4fd963c730"
      },
      "source": [
        "data_train.shape, data_val.shape, data_test.shape"
      ],
      "execution_count": 85,
      "outputs": [
        {
          "output_type": "execute_result",
          "data": {
            "text/plain": [
              "((14171, 12), (787, 12), (788, 12))"
            ]
          },
          "metadata": {
            "tags": []
          },
          "execution_count": 85
        }
      ]
    },
    {
      "cell_type": "code",
      "metadata": {
        "id": "Rz4uK7VuD1Ri",
        "colab_type": "code",
        "colab": {}
      },
      "source": [
        "# Need to create dataloaders:\n",
        "def create_data_loader(df, tokenizer, max_len, batch_size):\n",
        "  ds = GPReviewDataset(\n",
        "    reviews=df.content.to_numpy(),\n",
        "    targets=df.sentiment.to_numpy(),\n",
        "    tokenizer=tokenizer,\n",
        "    max_len=max_len\n",
        "  )\n",
        "  return DataLoader(ds,batch_size=batch_size,num_workers=4)\n",
        "BATCH_SIZE = 16"
      ],
      "execution_count": 86,
      "outputs": []
    },
    {
      "cell_type": "code",
      "metadata": {
        "id": "pMya4AvOEPwJ",
        "colab_type": "code",
        "colab": {}
      },
      "source": [
        "train_data_loader = create_data_loader(data_train, tokenizer, MAX_LEN, BATCH_SIZE)\n",
        "val_data_loader = create_data_loader(data_val, tokenizer, MAX_LEN, BATCH_SIZE)\n",
        "test_data_loader = create_data_loader(data_test, tokenizer, MAX_LEN, BATCH_SIZE)"
      ],
      "execution_count": 87,
      "outputs": []
    },
    {
      "cell_type": "code",
      "metadata": {
        "id": "viN21R6uEbMf",
        "colab_type": "code",
        "colab": {
          "base_uri": "https://localhost:8080/",
          "height": 34
        },
        "outputId": "84de9db2-6833-4add-ebc3-7a78df08030b"
      },
      "source": [
        "data = next(iter(train_data_loader))\n",
        "data.keys()"
      ],
      "execution_count": 89,
      "outputs": [
        {
          "output_type": "execute_result",
          "data": {
            "text/plain": [
              "dict_keys(['review_text', 'input_ids', 'attention_mask', 'targets'])"
            ]
          },
          "metadata": {
            "tags": []
          },
          "execution_count": 89
        }
      ]
    },
    {
      "cell_type": "code",
      "metadata": {
        "id": "MkRyMNGsEfAw",
        "colab_type": "code",
        "colab": {
          "base_uri": "https://localhost:8080/",
          "height": 68
        },
        "outputId": "6c4a9798-2754-416b-93e4-5723f602b620"
      },
      "source": [
        "print(data['input_ids'].shape)\n",
        "print(data['attention_mask'].shape)\n",
        "print(data['targets'].shape)"
      ],
      "execution_count": 90,
      "outputs": [
        {
          "output_type": "stream",
          "text": [
            "torch.Size([16, 160])\n",
            "torch.Size([16, 160])\n",
            "torch.Size([16])\n"
          ],
          "name": "stdout"
        }
      ]
    },
    {
      "cell_type": "code",
      "metadata": {
        "id": "AczLAQ9cFJPV",
        "colab_type": "code",
        "colab": {}
      },
      "source": [
        "bert_model = BertModel.from_pretrained(PRE_TRAINED_MODEL_NAME)"
      ],
      "execution_count": 91,
      "outputs": []
    },
    {
      "cell_type": "code",
      "metadata": {
        "id": "DoM-B7GYFWUs",
        "colab_type": "code",
        "colab": {}
      },
      "source": [
        "#This is the raw Bert model :\n",
        "last_hidden_state, pooled_output = bert_model(input_ids=data['input_ids'],attention_mask=data['attention_mask'])"
      ],
      "execution_count": 92,
      "outputs": []
    },
    {
      "cell_type": "code",
      "metadata": {
        "id": "leXcaprMFvun",
        "colab_type": "code",
        "colab": {
          "base_uri": "https://localhost:8080/",
          "height": 34
        },
        "outputId": "1f813715-cdc9-4419-9025-bf95a5d4997c"
      },
      "source": [
        "last_hidden_state.shape"
      ],
      "execution_count": 93,
      "outputs": [
        {
          "output_type": "execute_result",
          "data": {
            "text/plain": [
              "torch.Size([16, 160, 768])"
            ]
          },
          "metadata": {
            "tags": []
          },
          "execution_count": 93
        }
      ]
    },
    {
      "cell_type": "code",
      "metadata": {
        "id": "3c-noz33ICY2",
        "colab_type": "code",
        "colab": {}
      },
      "source": [
        "# Create a classifier using the Bert Model:\n",
        "class SentimentClassifier(nn.Module):\n",
        "  def __init__(self, n_classes):\n",
        "    super(SentimentClassifier, self).__init__()\n",
        "    self.bert = BertModel.from_pretrained(PRE_TRAINED_MODEL_NAME)\n",
        "    self.drop = nn.Dropout(p=0.3)\n",
        "    self.out = nn.Linear(self.bert.config.hidden_size, n_classes)\n",
        "  def forward(self, input_ids, attention_mask):\n",
        "    _, pooled_output = self.bert(\n",
        "      input_ids=input_ids,\n",
        "      attention_mask=attention_mask\n",
        "    )\n",
        "    output = self.drop(pooled_output)\n",
        "    return self.out(output)"
      ],
      "execution_count": 94,
      "outputs": []
    },
    {
      "cell_type": "code",
      "metadata": {
        "id": "gstq4Ad1KB-E",
        "colab_type": "code",
        "colab": {}
      },
      "source": [
        "# Now move it to GPU:\n",
        "model = SentimentClassifier(len(class_names))\n",
        "model = model.to(device)"
      ],
      "execution_count": 95,
      "outputs": []
    },
    {
      "cell_type": "code",
      "metadata": {
        "id": "9AfrN9XIKMQl",
        "colab_type": "code",
        "colab": {
          "base_uri": "https://localhost:8080/",
          "height": 51
        },
        "outputId": "282fed90-6887-484c-c1e7-bf64bfcac966"
      },
      "source": [
        "input_ids = data['input_ids'].to(device)\n",
        "attention_mask = data['attention_mask'].to(device)\n",
        "print(input_ids.shape) # batch size x seq length\n",
        "print(attention_mask.shape) # batch size x seq length"
      ],
      "execution_count": 96,
      "outputs": [
        {
          "output_type": "stream",
          "text": [
            "torch.Size([16, 160])\n",
            "torch.Size([16, 160])\n"
          ],
          "name": "stdout"
        }
      ]
    },
    {
      "cell_type": "code",
      "metadata": {
        "id": "enROQdsDKVmq",
        "colab_type": "code",
        "colab": {
          "base_uri": "https://localhost:8080/",
          "height": 289
        },
        "outputId": "2871ac25-923d-468e-c118-37c09f8b3544"
      },
      "source": [
        "# To get the predicted probabilities from our trained model, we’ll apply the softmax function to the outputs:\n",
        "F.softmax(model(input_ids, attention_mask), dim=1)"
      ],
      "execution_count": 97,
      "outputs": [
        {
          "output_type": "execute_result",
          "data": {
            "text/plain": [
              "tensor([[0.4167, 0.1629, 0.4204],\n",
              "        [0.5268, 0.1343, 0.3389],\n",
              "        [0.3120, 0.1510, 0.5370],\n",
              "        [0.5324, 0.1180, 0.3496],\n",
              "        [0.6053, 0.1680, 0.2267],\n",
              "        [0.3334, 0.1828, 0.4838],\n",
              "        [0.4221, 0.1138, 0.4641],\n",
              "        [0.3167, 0.2619, 0.4215],\n",
              "        [0.3325, 0.1465, 0.5211],\n",
              "        [0.2637, 0.1996, 0.5367],\n",
              "        [0.4092, 0.1467, 0.4441],\n",
              "        [0.3765, 0.2127, 0.4107],\n",
              "        [0.5731, 0.0732, 0.3537],\n",
              "        [0.4752, 0.1724, 0.3525],\n",
              "        [0.3837, 0.1831, 0.4332],\n",
              "        [0.3463, 0.2110, 0.4427]], device='cuda:0', grad_fn=<SoftmaxBackward>)"
            ]
          },
          "metadata": {
            "tags": []
          },
          "execution_count": 97
        }
      ]
    },
    {
      "cell_type": "code",
      "metadata": {
        "id": "obY2n_IBKd_9",
        "colab_type": "code",
        "colab": {}
      },
      "source": [
        ""
      ],
      "execution_count": 97,
      "outputs": []
    },
    {
      "cell_type": "markdown",
      "metadata": {
        "id": "bo57ZLZOL1hi",
        "colab_type": "text"
      },
      "source": [
        "### Training the Model:"
      ]
    },
    {
      "cell_type": "markdown",
      "metadata": {
        "id": "U8jj94hLNHnC",
        "colab_type": "text"
      },
      "source": [
        "### Predefined hyperparams from the authors:\n",
        "Batch size: 16, 32 | \n",
        "Learning rate (Adam): 5e-5, 3e-5, 2e-5 | \n",
        "Number of epochs: 2, 3, 4"
      ]
    },
    {
      "cell_type": "code",
      "metadata": {
        "id": "8vt4pJUhL35Z",
        "colab_type": "code",
        "colab": {}
      },
      "source": [
        "EPOCHS = 10\n",
        "optimizer = AdamW(model.parameters(), lr=2e-5, correct_bias=False)\n",
        "total_steps = len(train_data_loader) * EPOCHS\n",
        "scheduler = get_linear_schedule_with_warmup(optimizer,num_warmup_steps=0,num_training_steps=total_steps)\n",
        "loss_fn = nn.CrossEntropyLoss().to(device)"
      ],
      "execution_count": 98,
      "outputs": []
    },
    {
      "cell_type": "code",
      "metadata": {
        "id": "HftLVv-lNBPL",
        "colab_type": "code",
        "colab": {}
      },
      "source": [
        "def train_epoch(model,data_loader,loss_fn,optimizer,device,scheduler,n_example):\n",
        "  model = model.train()\n",
        "  losses = []\n",
        "  correct_predictions = 0\n",
        "  for d in data_loader:\n",
        "    input_ids = d[\"input_ids\"].to(device)\n",
        "    attention_mask = d[\"attention_mask\"].to(device)\n",
        "    targets = d[\"targets\"].to(device)\n",
        "    outputs = model(\n",
        "      input_ids=input_ids,\n",
        "      attention_mask=attention_mask\n",
        "    )\n",
        "    _, preds = torch.max(outputs, dim=1)\n",
        "    loss = loss_fn(outputs, targets)\n",
        "    correct_predictions += torch.sum(preds == targets)\n",
        "    losses.append(loss.item())\n",
        "    loss.backward()\n",
        "    nn.utils.clip_grad_norm_(model.parameters(), max_norm=1.0)# We are avoiding gradient exploding: Through clipping\n",
        "    optimizer.step()\n",
        "    scheduler.step()\n",
        "    optimizer.zero_grad()\n",
        "  return correct_predictions.double() / n_example, np.mean(losses)"
      ],
      "execution_count": 102,
      "outputs": []
    },
    {
      "cell_type": "code",
      "metadata": {
        "id": "K9piPpTINvl4",
        "colab_type": "code",
        "colab": {}
      },
      "source": [
        "# Eval the Model:\n",
        "def eval_model(model, data_loader, loss_fn, device, n_example):\n",
        "  model = model.eval()\n",
        "  losses = []\n",
        "  correct_predictions = 0\n",
        "  with torch.no_grad():\n",
        "    for d in data_loader:\n",
        "      input_ids = d[\"input_ids\"].to(device)\n",
        "      attention_mask = d[\"attention_mask\"].to(device)\n",
        "      targets = d[\"targets\"].to(device)\n",
        "      outputs = model(\n",
        "        input_ids=input_ids,\n",
        "        attention_mask=attention_mask\n",
        "      )\n",
        "      _, preds = torch.max(outputs, dim=1)\n",
        "      loss = loss_fn(outputs, targets)\n",
        "      correct_predictions += torch.sum(preds == targets)\n",
        "      losses.append(loss.item())\n",
        "  return correct_predictions.double() / n_example, np.mean(losses)"
      ],
      "execution_count": 103,
      "outputs": []
    },
    {
      "cell_type": "code",
      "metadata": {
        "id": "L7t5ngSAOKuO",
        "colab_type": "code",
        "colab": {
          "base_uri": "https://localhost:8080/",
          "height": 901
        },
        "outputId": "afae3813-b592-4124-a088-86db0d48e0e4"
      },
      "source": [
        "%%time\n",
        "history = defaultdict(list)\n",
        "best_accuracy = 0\n",
        "for epoch in range(EPOCHS):\n",
        "  print(f'Epoch {epoch + 1}/{EPOCHS}')\n",
        "  print('-' * 30)\n",
        "  train_acc, train_loss = train_epoch(model,train_data_loader,loss_fn,optimizer,device,scheduler,len(data_train))\n",
        "  print(f'Train loss {train_loss} accuracy {train_acc}')\n",
        "  val_acc, val_loss = eval_model(model,val_data_loader,loss_fn,device,len(data_val))\n",
        "  print(f'Val   loss {val_loss} accuracy {val_acc}')\n",
        "  print()\n",
        "  history['train_acc'].append(train_acc)\n",
        "  history['train_loss'].append(train_loss)\n",
        "  history['val_acc'].append(val_acc)\n",
        "  history['val_loss'].append(val_loss)\n",
        "  if val_acc > best_accuracy:\n",
        "    torch.save(model.state_dict(), 'best_model_state.bin')\n",
        "    best_accuracy = val_acc"
      ],
      "execution_count": 105,
      "outputs": [
        {
          "output_type": "stream",
          "text": [
            "Epoch 1/10\n",
            "------------------------------\n",
            "Train loss 0.3928224016485513 accuracy 0.8523745677792676\n",
            "Val   loss 0.4960121926665306 accuracy 0.8335451080050826\n",
            "\n",
            "Epoch 2/10\n",
            "------------------------------\n",
            "Train loss 0.22725200758191585 accuracy 0.9281631500952651\n",
            "Val   loss 0.6242331060767173 accuracy 0.8678526048284626\n",
            "\n",
            "Epoch 3/10\n",
            "------------------------------\n",
            "Train loss 0.16011956546447212 accuracy 0.9540611107190742\n",
            "Val   loss 0.7498525661230088 accuracy 0.8691232528589581\n",
            "\n",
            "Epoch 4/10\n",
            "------------------------------\n",
            "Train loss 0.10572175838843695 accuracy 0.9696563404135206\n",
            "Val   loss 0.7286872366070747 accuracy 0.878017789072427\n",
            "\n",
            "Epoch 5/10\n",
            "------------------------------\n",
            "Train loss 0.0774897876580332 accuracy 0.9776303718862466\n",
            "Val   loss 0.7949933139979839 accuracy 0.8805590851334181\n",
            "\n",
            "Epoch 6/10\n",
            "------------------------------\n",
            "Train loss 0.06398470333144574 accuracy 0.9810175710959002\n",
            "Val   loss 0.8431818175315857 accuracy 0.8818297331639137\n",
            "\n",
            "Epoch 7/10\n",
            "------------------------------\n",
            "Train loss 0.04880920779927051 accuracy 0.9849693035071626\n",
            "Val   loss 0.8389958699047565 accuracy 0.8856416772554003\n",
            "\n",
            "Epoch 8/10\n",
            "------------------------------\n",
            "Train loss 0.041375226511474926 accuracy 0.9868746030625927\n",
            "Val   loss 0.884228421896696 accuracy 0.8805590851334181\n",
            "\n",
            "Epoch 9/10\n",
            "------------------------------\n",
            "Train loss 0.03628475189158529 accuracy 0.9872274363135982\n",
            "Val   loss 0.8891580128669738 accuracy 0.8843710292249047\n",
            "\n",
            "Epoch 10/10\n",
            "------------------------------\n",
            "Train loss 0.032766298771442735 accuracy 0.9885682026674194\n",
            "Val   loss 0.8891580128669738 accuracy 0.8843710292249047\n",
            "\n",
            "CPU times: user 28min 52s, sys: 13min 17s, total: 42min 10s\n",
            "Wall time: 42min 30s\n"
          ],
          "name": "stdout"
        }
      ]
    },
    {
      "cell_type": "code",
      "metadata": {
        "id": "MaB_4pM8OfaR",
        "colab_type": "code",
        "colab": {}
      },
      "source": [
        ""
      ],
      "execution_count": null,
      "outputs": []
    },
    {
      "cell_type": "markdown",
      "metadata": {
        "id": "bhyzRC8_caLT",
        "colab_type": "text"
      },
      "source": [
        "### Now Model Evaluation"
      ]
    },
    {
      "cell_type": "code",
      "metadata": {
        "id": "ue2vGvLGcgoz",
        "colab_type": "code",
        "colab": {
          "base_uri": "https://localhost:8080/",
          "height": 34
        },
        "outputId": "890b6f56-ecc1-4aba-eba4-5bb27db3d594"
      },
      "source": [
        "test_acc, _ = eval_model(model,test_data_loader,loss_fn,device,len(data_test))\n",
        "test_acc.item()\n"
      ],
      "execution_count": 106,
      "outputs": [
        {
          "output_type": "execute_result",
          "data": {
            "text/plain": [
              "0.8883248730964466"
            ]
          },
          "metadata": {
            "tags": []
          },
          "execution_count": 106
        }
      ]
    },
    {
      "cell_type": "code",
      "metadata": {
        "id": "AZ7vT9zwcrS1",
        "colab_type": "code",
        "colab": {
          "base_uri": "https://localhost:8080/",
          "height": 295
        },
        "outputId": "e15588dd-5c63-4749-efea-58f0be4ee690"
      },
      "source": [
        "plt.plot(history['train_acc'], label='train accuracy')\n",
        "plt.plot(history['val_acc'], label='validation accuracy')\n",
        "plt.title('Training history')\n",
        "plt.ylabel('Accuracy')\n",
        "plt.xlabel('Epoch')\n",
        "plt.legend()\n",
        "plt.ylim([0, 1]);"
      ],
      "execution_count": 107,
      "outputs": [
        {
          "output_type": "display_data",
          "data": {
            "image/png": "[encoded data removed]",
            "text/plain": [
              "<Figure size 432x288 with 1 Axes>"
            ]
          },
          "metadata": {
            "tags": [],
            "needs_background": "light"
          }
        }
      ]
    },
    {
      "cell_type": "code",
      "metadata": {
        "id": "-vqkmGb0c7F7",
        "colab_type": "code",
        "colab": {}
      },
      "source": [
        ""
      ],
      "execution_count": null,
      "outputs": []
    },
    {
      "cell_type": "markdown",
      "metadata": {
        "id": "NoiMGkX-dSe_",
        "colab_type": "text"
      },
      "source": [
        "### Predicting on Raw Text"
      ]
    },
    {
      "cell_type": "code",
      "metadata": {
        "id": "QzPDvRAZdUYS",
        "colab_type": "code",
        "colab": {}
      },
      "source": [
        "review_text = \"The food was not good at all not even the drinks were good\"\n",
        "encoded_review = tokenizer.encode_plus(\n",
        "  review_text,\n",
        "  max_length=MAX_LEN,\n",
        "  truncation=True,\n",
        "  add_special_tokens=True,\n",
        "  return_token_type_ids=False,\n",
        "  pad_to_max_length=True,\n",
        "  return_attention_mask=True,\n",
        "  return_tensors='pt',\n",
        ")"
      ],
      "execution_count": 111,
      "outputs": []
    },
    {
      "cell_type": "code",
      "metadata": {
        "id": "wxC14OGEdbLB",
        "colab_type": "code",
        "colab": {
          "base_uri": "https://localhost:8080/",
          "height": 51
        },
        "outputId": "73512b74-546c-4495-b60c-07e13d185afe"
      },
      "source": [
        "input_ids = encoded_review['input_ids'].to(device)\n",
        "attention_mask = encoded_review['attention_mask'].to(device)\n",
        "output = model(input_ids, attention_mask)\n",
        "_, prediction = torch.max(output, dim=1)\n",
        "print(f'Review text: {review_text}')\n",
        "print(f'Sentiment  : {class_names[prediction]}')"
      ],
      "execution_count": 112,
      "outputs": [
        {
          "output_type": "stream",
          "text": [
            "Review text: The food was not good at all not even the drinks were good\n",
            "Sentiment  : negative\n"
          ],
          "name": "stdout"
        }
      ]
    },
    {
      "cell_type": "code",
      "metadata": {
        "id": "c3-tjUxzdmDb",
        "colab_type": "code",
        "colab": {}
      },
      "source": [
        ""
      ],
      "execution_count": null,
      "outputs": []
    }
  ]
}